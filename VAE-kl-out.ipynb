{
 "cells": [
  {
   "cell_type": "code",
   "execution_count": 4,
   "metadata": {},
   "outputs": [
    {
     "name": "stdout",
     "output_type": "stream",
     "text": [
      "The autoreload extension is already loaded. To reload it, use:\n",
      "  %reload_ext autoreload\n"
     ]
    }
   ],
   "source": [
    "from PTL.data_process import load_data, augment_data,combine_augmented_data\n",
    "from PTL.model import build_vae\n",
    "from PTL.utils import set_random_seeds, limit_threads,save_to_excel, calculate_kl_divergences\n",
    "from PTL.visualization import plot_kl_divergences_bar_chart\n",
    "import numpy as np\n",
    "\n",
    "\n",
    "%load_ext autoreload\n",
    "%autoreload 2"
   ]
  },
  {
   "cell_type": "code",
   "execution_count": 5,
   "metadata": {},
   "outputs": [
    {
     "name": "stderr",
     "output_type": "stream",
     "text": [
      "WARNING:absl:At this time, the v2.11+ optimizer `tf.keras.optimizers.Adam` runs slowly on M1/M2 Macs, please use the legacy Keras optimizer instead, located at `tf.keras.optimizers.legacy.Adam`.\n",
      "WARNING:absl:There is a known slowdown when using v2.11+ Keras optimizers on M1/M2 Macs. Falling back to the legacy Keras optimizer, i.e., `tf.keras.optimizers.legacy.Adam`.\n"
     ]
    }
   ],
   "source": [
    "# 1. 设置随机种子和限制线程\n",
    "set_random_seeds()  # 设置随机种子\n",
    "limit_threads()  # 限制线程数\n",
    "\n",
    "# 2. 加载数据\n",
    "file_path = \"data/raw/data_Pouch52.xlsx\"\n",
    "# file_path = ['data/data_Cylind21.xlsx', 'data/data_Pouch31.xlsx', 'data/data_Pouch52.xlsx']\n",
    "data, Fts, SOC, SOE, SOH_values = load_data(\n",
    "    file_path=file_path, sheet_name=\"All\")\n",
    "\n",
    "\n",
    "# 4. 构建VAE模型\n",
    "vae, encoder, decoder = build_vae()"
   ]
  },
  {
   "cell_type": "code",
   "execution_count": 6,
   "metadata": {},
   "outputs": [
    {
     "name": "stdout",
     "output_type": "stream",
     "text": [
      "Epoch 1/2\n",
      "1/1 [==============================] - 0s 211ms/step - loss: 2.3485\n",
      "Epoch 2/2\n",
      "1/1 [==============================] - 0s 2ms/step - loss: 2.3317\n",
      "4/4 [==============================] - 0s 549us/step\n",
      "Epoch 1/2\n",
      "1/1 [==============================] - 0s 2ms/step - loss: 2.2831\n",
      "Epoch 2/2\n",
      "1/1 [==============================] - 0s 2ms/step - loss: 2.1676\n",
      "4/4 [==============================] - 0s 581us/step\n",
      "Epoch 1/2\n",
      "1/1 [==============================] - 0s 3ms/step - loss: 2.1628\n",
      "Epoch 2/2\n",
      "1/1 [==============================] - 0s 2ms/step - loss: 2.1634\n",
      "4/4 [==============================] - 0s 689us/step\n",
      "Epoch 1/2\n",
      "1/1 [==============================] - 0s 6ms/step - loss: 2.2453\n",
      "Epoch 2/2\n",
      "1/1 [==============================] - 0s 2ms/step - loss: 2.2912\n",
      "4/4 [==============================] - 0s 535us/step\n",
      "Epoch 1/2\n",
      "1/1 [==============================] - 0s 2ms/step - loss: 2.1151\n",
      "Epoch 2/2\n",
      "1/1 [==============================] - 0s 1ms/step - loss: 2.2334\n",
      "4/4 [==============================] - 0s 538us/step\n",
      "Epoch 1/2\n",
      "1/1 [==============================] - 0s 3ms/step - loss: 2.1773\n",
      "Epoch 2/2\n",
      "1/1 [==============================] - 0s 2ms/step - loss: 2.0870\n",
      "4/4 [==============================] - 0s 553us/step\n",
      "Epoch 1/2\n",
      "1/1 [==============================] - 0s 7ms/step - loss: 2.1987\n",
      "Epoch 2/2\n",
      "1/1 [==============================] - 0s 2ms/step - loss: 2.0250\n",
      "4/4 [==============================] - 0s 579us/step\n",
      "Epoch 1/2\n",
      "1/1 [==============================] - 0s 3ms/step - loss: 2.1790\n",
      "Epoch 2/2\n",
      "1/1 [==============================] - 0s 2ms/step - loss: 2.0767\n",
      "4/4 [==============================] - 0s 615us/step\n",
      "Epoch 1/2\n",
      "1/1 [==============================] - 0s 2ms/step - loss: 2.1107\n",
      "Epoch 2/2\n",
      "1/1 [==============================] - 0s 2ms/step - loss: 1.9715\n",
      "4/4 [==============================] - 0s 702us/step\n",
      "Epoch 1/2\n",
      "1/1 [==============================] - 0s 2ms/step - loss: 2.0027\n",
      "Epoch 2/2\n",
      "1/1 [==============================] - 0s 2ms/step - loss: 2.1413\n",
      "4/4 [==============================] - 0s 518us/step\n",
      "Epoch 1/2\n",
      "1/1 [==============================] - 0s 2ms/step - loss: 1.9992\n",
      "Epoch 2/2\n",
      "1/1 [==============================] - 0s 2ms/step - loss: 2.2026\n",
      "4/4 [==============================] - 0s 462us/step\n",
      "Epoch 1/2\n",
      "1/1 [==============================] - 0s 2ms/step - loss: 2.0898\n",
      "Epoch 2/2\n",
      "1/1 [==============================] - 0s 1ms/step - loss: 2.0773\n",
      "4/4 [==============================] - 0s 561us/step\n",
      "Epoch 1/2\n",
      "1/1 [==============================] - 0s 3ms/step - loss: 2.2182\n",
      "Epoch 2/2\n",
      "1/1 [==============================] - 0s 2ms/step - loss: 2.0192\n",
      "4/4 [==============================] - 0s 743us/step\n",
      "Epoch 1/2\n",
      "1/1 [==============================] - 0s 2ms/step - loss: 1.9246\n",
      "Epoch 2/2\n",
      "1/1 [==============================] - 0s 2ms/step - loss: 2.1937\n",
      "4/4 [==============================] - 0s 514us/step\n",
      "Epoch 1/2\n",
      "1/1 [==============================] - 0s 2ms/step - loss: 2.0917\n",
      "Epoch 2/2\n",
      "1/1 [==============================] - 0s 2ms/step - loss: 2.0414\n",
      "4/4 [==============================] - 0s 574us/step\n"
     ]
    }
   ],
   "source": [
    "augmented_data, augmented_SOE_list, combined_data_normalized = augment_data(\n",
    "    SOH_values, data, Fts, SOC, vae, encoder, decoder\n",
    ")\n",
    "# Combine all augmented data\n",
    "all_augmented_data = np.vstack(augmented_data)\n",
    "augmented_Fts = all_augmented_data[:, 1:]"
   ]
  },
  {
   "cell_type": "code",
   "execution_count": 7,
   "metadata": {},
   "outputs": [
    {
     "data": {
      "image/png": "[encoded data removed]",
      "text/plain": [
       "<Figure size 400x400 with 1 Axes>"
      ]
     },
     "metadata": {},
     "output_type": "display_data"
    },
    {
     "name": "stdout",
     "output_type": "stream",
     "text": [
      "KL Divergence for U1: 12.9768\n",
      "KL Divergence for U2: 10.2903\n",
      "KL Divergence for U3: 9.0802\n",
      "KL Divergence for U4: 9.2445\n",
      "KL Divergence for U5: 8.9717\n",
      "KL Divergence for U6: 11.1833\n",
      "KL Divergence for U7: 11.7282\n",
      "KL Divergence for U8: 12.0364\n",
      "KL Divergence for U9: 13.0338\n",
      "KL Divergence for U10: 11.9966\n",
      "KL Divergence for U11: 7.7146\n",
      "KL Divergence for U12: 10.1341\n",
      "KL Divergence for U13: 8.4336\n",
      "KL Divergence for U14: 14.0208\n",
      "KL Divergence for U15: 10.5055\n",
      "KL Divergence for U16: 10.4537\n",
      "KL Divergence for U17: 10.6824\n",
      "KL Divergence for U18: 11.1180\n",
      "KL Divergence for U19: 10.0718\n",
      "KL Divergence for U20: 12.2746\n",
      "KL Divergence for U21: 10.5123\n"
     ]
    }
   ],
   "source": [
    "# Calculate KL divergences for all features (U1 to U21)\n",
    "kl_divergences = calculate_kl_divergences(Fts, augmented_Fts)\n",
    "plot_kl_divergences_bar_chart(kl_divergences, Fts)"
   ]
  }
 ],
 "metadata": {
  "kernelspec": {
   "display_name": "tsy",
   "language": "python",
   "name": "python3"
  },
  "language_info": {
   "codemirror_mode": {
    "name": "ipython",
    "version": 3
   },
   "file_extension": ".py",
   "mimetype": "text/x-python",
   "name": "python",
   "nbconvert_exporter": "python",
   "pygments_lexer": "ipython3",
   "version": "3.8.20"
  }
 },
 "nbformat": 4,
 "nbformat_minor": 2
}
